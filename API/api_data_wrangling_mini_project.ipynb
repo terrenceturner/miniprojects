{
 "cells": [
  {
   "cell_type": "markdown",
   "metadata": {},
   "source": [
    "This exercise will require you to pull some data from the Qunadl API. Qaundl is currently the most widely used aggregator of financial market data."
   ]
  },
  {
   "cell_type": "markdown",
   "metadata": {},
   "source": [
    "As a first step, you will need to register a free account on the http://www.quandl.com website."
   ]
  },
  {
   "cell_type": "markdown",
   "metadata": {},
   "source": [
    "After you register, you will be provided with a unique API key, that you should store:"
   ]
  },
  {
   "cell_type": "code",
   "execution_count": 1,
   "metadata": {},
   "outputs": [],
   "source": [
    "# Store the API key as a string - according to PEP8, constants are always named in all upper case\n",
    "API_KEY = 'TvZ5fzevTCiy5Pc_2MLq'"
   ]
  },
  {
   "cell_type": "markdown",
   "metadata": {},
   "source": [
    "Qaundl has a large number of data sources, but, unfortunately, most of them require a Premium subscription. Still, there are also a good number of free datasets."
   ]
  },
  {
   "cell_type": "markdown",
   "metadata": {},
   "source": [
    "For this mini project, we will focus on equities data from the Frankfurt Stock Exhange (FSE), which is available for free. We'll try and analyze the stock prices of a company called Carl Zeiss Meditec, which manufactures tools for eye examinations, as well as medical lasers for laser eye surgery: https://www.zeiss.com/meditec/int/home.html. The company is listed under the stock ticker AFX_X."
   ]
  },
  {
   "cell_type": "markdown",
   "metadata": {},
   "source": [
    "You can find the detailed Quandl API instructions here: https://docs.quandl.com/docs/time-series"
   ]
  },
  {
   "cell_type": "markdown",
   "metadata": {},
   "source": [
    "While there is a dedicated Python package for connecting to the Quandl API, we would prefer that you use the *requests* package, which can be easily downloaded using *pip* or *conda*. You can find the documentation for the package here: http://docs.python-requests.org/en/master/ "
   ]
  },
  {
   "cell_type": "markdown",
   "metadata": {},
   "source": [
    "Finally, apart from the *requests* package, you are encouraged to not use any third party Python packages, such as *pandas*, and instead focus on what's available in the Python Standard Library (the *collections* module might come in handy: https://pymotw.com/3/collections/ ).\n",
    "Also, since you won't have access to DataFrames, you are encouraged to us Python's native data structures - preferably dictionaries, though some questions can also be answered using lists.\n",
    "You can read more on these data structures here: https://docs.python.org/3/tutorial/datastructures.html"
   ]
  },
  {
   "cell_type": "markdown",
   "metadata": {},
   "source": [
    "Keep in mind that the JSON responses you will be getting from the API map almost one-to-one to Python's dictionaries. Unfortunately, they can be very nested, so make sure you read up on indexing dictionaries in the documentation provided above."
   ]
  },
  {
   "cell_type": "code",
   "execution_count": 2,
   "metadata": {},
   "outputs": [],
   "source": [
    "# First, import the relevant modules\n",
    "import requests\n",
    "import collections\n"
   ]
  },
  {
   "cell_type": "code",
   "execution_count": 3,
   "metadata": {},
   "outputs": [
    {
     "name": "stdout",
     "output_type": "stream",
     "text": [
      "{'dataset_data': {'limit': None, 'transform': None, 'column_index': None, 'column_names': ['Date', 'Open', 'High', 'Low', 'Close', 'Change', 'Traded Volume', 'Turnover', 'Last Price of the Day', 'Daily Traded Units', 'Daily Turnover'], 'start_date': '2020-02-24', 'end_date': '2020-02-25', 'frequency': 'daily', 'data': [['2020-02-25', 105.6, 106.4, 100.6, 101.2, None, 250020.0, 25613306.6, None, None, None], ['2020-02-24', 104.0, 105.5, 102.2, 104.7, None, 211543.0, 22050204.4, None, None, None]], 'collapse': None, 'order': None}}\n"
     ]
    }
   ],
   "source": [
    "# Now, call the Quandl API and pull out a small sample of the data (only one day) to get a glimpse\n",
    "# into the JSON structure that will be returned\n",
    "url = 'https://www.quandl.com/api/v3/datasets/FSE/AFX_X/data.json'\n",
    "payload = {'start_date': '2020-02-24', 'end_date': '2020-02-25', 'api_key': API_KEY}\n",
    "\n",
    "response = requests.get(url, params=payload)\n",
    "\n",
    "responsejson = response.json()\n",
    "\n",
    "print(responsejson)"
   ]
  },
  {
   "cell_type": "code",
   "execution_count": 4,
   "metadata": {},
   "outputs": [],
   "source": [
    "# Inspect the JSON structure of the object you created, and take note of how nested it is,\n",
    "# as well as the overall structure\n"
   ]
  },
  {
   "cell_type": "markdown",
   "metadata": {},
   "source": [
    "These are your tasks for this mini project:\n",
    "\n",
    "1. Collect data from the Franfurt Stock Exchange, for the ticker AFX_X, for the whole year 2017 (keep in mind that the date format is YYYY-MM-DD).\n",
    "2. Convert the returned JSON object into a Python dictionary.\n",
    "3. Calculate what the highest and lowest opening prices were for the stock in this period.\n",
    "4. What was the largest change in any one day (based on High and Low price)?\n",
    "5. What was the largest change between any two days (based on Closing Price)?\n",
    "6. What was the average daily trading volume during this year?\n",
    "7. (Optional) What was the median trading volume during this year. (Note: you may need to implement your own function for calculating the median.)"
   ]
  },
  {
   "cell_type": "markdown",
   "metadata": {},
   "source": [
    "## 1. Collect data from the Franfurt Stock Exchange."
   ]
  },
  {
   "cell_type": "code",
   "execution_count": 5,
   "metadata": {},
   "outputs": [],
   "source": [
    "# Initialize url and call parameters\n",
    "url = 'https://www.quandl.com/api/v3/datasets/FSE/AFX_X/data.json'\n",
    "payload = {'start_date': '2017-01-01', 'end_date': '2017-12-31', 'api_key': API_KEY}\n",
    "\n",
    "response = requests.get(url, params=payload)"
   ]
  },
  {
   "cell_type": "markdown",
   "metadata": {},
   "source": [
    "## 2. Convert the returned JSON object into a Python dictionary."
   ]
  },
  {
   "cell_type": "code",
   "execution_count": 6,
   "metadata": {},
   "outputs": [],
   "source": [
    "responsedata = response.json()\n",
    "\n",
    "# Drill into the data from the API response\n",
    "data = responsedata['dataset_data']['data']\n",
    "\n",
    "# Define commonly used column names for the data list based on the column names field in the response data\n",
    "column_names = responsedata['dataset_data']['column_names']\n",
    "index_date = column_names.index('Date')\n",
    "index_open = column_names.index('Open')\n",
    "index_close = column_names.index('Close')\n",
    "index_high = column_names.index('High')\n",
    "index_low = column_names.index('Low')\n",
    "index_volume = column_names.index('Traded Volume')"
   ]
  },
  {
   "cell_type": "markdown",
   "metadata": {},
   "source": [
    "## 3. Calculate what the highest and lowest opening prices were for the stock in this period."
   ]
  },
  {
   "cell_type": "code",
   "execution_count": 7,
   "metadata": {},
   "outputs": [
    {
     "name": "stdout",
     "output_type": "stream",
     "text": [
      "Maximum Opening: $53.11 , Minimum Opening: $34.00\n"
     ]
    }
   ],
   "source": [
    "# Use a list comprehension to extract a list of opening prices. Filters for missing and non-numerical entries.\n",
    "opens = [day[index_open] for day in data if type(day[index_open]) == float]\n",
    "\n",
    "# Find and printthe min and max opening price\n",
    "max_open = max(opens)\n",
    "min_open = min(opens)\n",
    "print('Maximum Opening: ${:.2f}'.format(max_open), ', Minimum Opening: ${:.2f}'.format(min_open))"
   ]
  },
  {
   "cell_type": "markdown",
   "metadata": {},
   "source": [
    "## 4. The largest change in any one day (based on High and Low price)"
   ]
  },
  {
   "cell_type": "code",
   "execution_count": 9,
   "metadata": {},
   "outputs": [
    {
     "name": "stdout",
     "output_type": "stream",
     "text": [
      "Largest change in one day: $2.81\n"
     ]
    }
   ],
   "source": [
    "# Use a list comprehension to extract a list of daily price range\n",
    "daily_range = [day[index_high]-day[index_low] for day in data if type(day[index_high]) == float and type(day[index_low] == float )]\n",
    "\n",
    "# Find and print the maximum of the daily change\n",
    "max_daily_change = max(daily_range)\n",
    "print('Largest change in one day: ${:.2f}'.format(max_daily_change))"
   ]
  },
  {
   "cell_type": "markdown",
   "metadata": {},
   "source": [
    "## 5. The largest change between any two days (based on Closing Price)"
   ]
  },
  {
   "cell_type": "code",
   "execution_count": 10,
   "metadata": {},
   "outputs": [
    {
     "name": "stdout",
     "output_type": "stream",
     "text": [
      "Largest change between two days: $2.56\n"
     ]
    }
   ],
   "source": [
    "# Use a list comprehension to create a list of closing prices\n",
    "closing_prices = [day[index_close] for day in data if type(day[index_close]) == float]\n",
    "\n",
    "# Use zip and a list comprehension to create a list of the change in closing price from the previous day\n",
    "closing_change = [curr - prev for curr, prev in zip(closing_prices[1:], closing_prices[:-1])]\n",
    "\n",
    "# Find and print the largest change\n",
    "max_close_change = max(closing_change)\n",
    "print('Largest change between two days: ${:.2f}'.format(max_close_change))"
   ]
  },
  {
   "cell_type": "markdown",
   "metadata": {},
   "source": [
    "## 6. The average daily trading volume during this year"
   ]
  },
  {
   "cell_type": "code",
   "execution_count": 11,
   "metadata": {},
   "outputs": [
    {
     "name": "stdout",
     "output_type": "stream",
     "text": [
      "Average daily trading volume: $89124.34\n"
     ]
    }
   ],
   "source": [
    "# Use a list comprehension to extract a list of daily trading volume\n",
    "trading_volume = [day[index_volume] for day in data if type(day[index_volume]) == float]\n",
    "\n",
    "# Find and print the average trading volume\n",
    "average_trading_volume = sum(trading_volume)/len(trading_volume)\n",
    "print('Average daily trading volume: ${:.2f}'.format(average_trading_volume))"
   ]
  },
  {
   "cell_type": "markdown",
   "metadata": {},
   "source": [
    "## 7. The median trading volume during this year."
   ]
  },
  {
   "cell_type": "code",
   "execution_count": 12,
   "metadata": {},
   "outputs": [
    {
     "name": "stdout",
     "output_type": "stream",
     "text": [
      "Median daily trading volume: $76286.00\n"
     ]
    }
   ],
   "source": [
    "# Define function for taking the median of a list\n",
    "def median( input_list ):\n",
    "    \"\"\"Returns the median of a list. Assumes list is numerical\"\"\"\n",
    "    sorted_list = sorted(input_list)\n",
    "    list_length = len(sorted_list)\n",
    "    \n",
    "    if (list_length%2 == 0) :\n",
    "        # If the list has an even number of elements, return the average of the center two\n",
    "        return (sorted_list[int(list_length/2)] + sorted_list[int(list_length/2-1)])/2\n",
    "    else :\n",
    "        # otherwise return the center element\n",
    "        return (sorted_list[int((list_length-1)/2)])\n",
    "    \n",
    "# Find and print median of the trading volume list from previous question (6)\n",
    "median_trading_volume = median(trading_volume)\n",
    "print('Median daily trading volume: ${:.2f}'.format(median_trading_volume))"
   ]
  },
  {
   "cell_type": "code",
   "execution_count": null,
   "metadata": {},
   "outputs": [],
   "source": []
  }
 ],
 "metadata": {
  "kernelspec": {
   "display_name": "Python 3",
   "language": "python",
   "name": "python3"
  },
  "language_info": {
   "codemirror_mode": {
    "name": "ipython",
    "version": 3
   },
   "file_extension": ".py",
   "mimetype": "text/x-python",
   "name": "python",
   "nbconvert_exporter": "python",
   "pygments_lexer": "ipython3",
   "version": "3.7.4"
  }
 },
 "nbformat": 4,
 "nbformat_minor": 2
}
